{
 "cells": [
  {
   "cell_type": "markdown",
   "id": "fc06ebc2",
   "metadata": {},
   "source": [
    "# Load and install package"
   ]
  },
  {
   "cell_type": "code",
   "execution_count": null,
   "id": "42fe0e58",
   "metadata": {},
   "outputs": [],
   "source": [
    "!pip install pandas"
   ]
  },
  {
   "cell_type": "code",
   "execution_count": null,
   "id": "7e3a5edc",
   "metadata": {},
   "outputs": [],
   "source": [
    "import pandas as pd\n",
    "import json, os, csv"
   ]
  },
  {
   "cell_type": "markdown",
   "id": "f15bf07b",
   "metadata": {},
   "source": [
    "# Process and Analysis"
   ]
  },
  {
   "cell_type": "code",
   "execution_count": null,
   "id": "61d006dc",
   "metadata": {},
   "outputs": [],
   "source": [
    "with open('data/initial-data/scraping/comments_by_classes.json') as f:\n",
    "    comment_by_classes = json.load(f)\n",
    "\n",
    "df_feedback = pd.read_json('data/initial-data/scraping/feedback_by_classes.json')\n",
    "manual_collecting = pd.read_csv('data/initial-data/engineering-1.csv')"
   ]
  },
  {
   "cell_type": "code",
   "execution_count": null,
   "id": "34e5dad4",
   "metadata": {},
   "outputs": [],
   "source": [
    "df_comments = pd.DataFrame(comment_by_classes, columns=[\"question\"])\n",
    "df_comments['rating'] = '' \n",
    "df_comments = df_comments.drop_duplicates(subset=['question'])\n",
    "df_comments"
   ]
  },
  {
   "cell_type": "code",
   "execution_count": null,
   "id": "5b7df78d",
   "metadata": {},
   "outputs": [],
   "source": [
    "df_feedback['question'] = df_feedback['question'].astype(str).str.strip()\n",
    "df_feedback = df_feedback[~df_feedback['question'].str.fullmatch(r'[-.,!? ]+')]\n",
    "df_feedback.head(10)"
   ]
  },
  {
   "cell_type": "code",
   "execution_count": null,
   "id": "112cb965",
   "metadata": {},
   "outputs": [],
   "source": [
    "new_df = pd.concat([df_feedback, df_comments], axis=0)\n",
    "new_df.to_csv('data/results/scrapping-results.csv', index=False)"
   ]
  },
  {
   "cell_type": "code",
   "execution_count": null,
   "id": "9e171eee",
   "metadata": {},
   "outputs": [],
   "source": [
    "def read_csv(filename):\n",
    "    with open(filename, 'r', encoding='utf-16', errors='ignore') as f:\n",
    "        reader = csv.reader(f)\n",
    "        rows = list(reader)  \n",
    "\n",
    "    header = rows[0]\n",
    "    data = rows[1:]\n",
    "\n",
    "    data_clean = [row for row in data if len(row) == len(header)]\n",
    "    df = pd.DataFrame(data_clean, columns=header)\n",
    "    return df"
   ]
  },
  {
   "cell_type": "code",
   "execution_count": null,
   "id": "84d105b8",
   "metadata": {},
   "outputs": [],
   "source": [
    "review_users = os.listdir('data/initial-data/review-playstore')\n",
    "df = pd.DataFrame({})\n",
    "\n",
    "for review in review_users:\n",
    "    temp = read_csv(f'data/initial-data/review-playstore/{review}')\n",
    "    df = pd.concat([df, temp], axis=0)"
   ]
  },
  {
   "cell_type": "code",
   "execution_count": null,
   "id": "0fa42518",
   "metadata": {},
   "outputs": [],
   "source": [
    "import pandas as pd\n",
    "\n",
    "df_review = df[['Star Rating', 'Review Text']].copy()\n",
    "df_review = df_review.rename(columns={'Star Rating': 'rating', 'Review Text': 'question'})\n",
    "df_review['question'] = df_review['question'].astype(str).str.strip()\n",
    "df_review['question'] = df_review['question'].replace('', pd.NA)\n",
    "df_review = df_review.dropna(subset=['question']).reset_index(drop=True)\n",
    "\n",
    "df_review"
   ]
  },
  {
   "cell_type": "code",
   "execution_count": null,
   "id": "b520a05a",
   "metadata": {},
   "outputs": [],
   "source": [
    "df_join = pd.concat([df_review, new_df], axis=0)\n",
    "df_join"
   ]
  },
  {
   "cell_type": "code",
   "execution_count": null,
   "id": "99b1daca",
   "metadata": {},
   "outputs": [],
   "source": [
    "df_join.to_csv('data/results/scrapping-review.csv', index=False)"
   ]
  }
 ],
 "metadata": {
  "kernelspec": {
   "display_name": "Python 3",
   "language": "python",
   "name": "python3"
  },
  "language_info": {
   "codemirror_mode": {
    "name": "ipython",
    "version": 3
   },
   "file_extension": ".py",
   "mimetype": "text/x-python",
   "name": "python",
   "nbconvert_exporter": "python",
   "pygments_lexer": "ipython3",
   "version": "3.11.6"
  }
 },
 "nbformat": 4,
 "nbformat_minor": 5
}
